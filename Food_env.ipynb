{
 "cells": [
  {
   "cell_type": "markdown",
   "metadata": {},
   "source": [
    "This notebook uses Food Environment Atlas Data - https://www.ers.usda.gov/data-products/food-environment-atlas/data-access-and-documentation-downloads.aspx"
   ]
  },
  {
   "cell_type": "code",
   "execution_count": 160,
   "metadata": {},
   "outputs": [],
   "source": [
    "import pandas as pd\n",
    "import xlrd\n",
    "import plotly.plotly as py\n",
    "import matplotlib.pyplot as plt\n",
    "import numpy as np\n",
    "import plotly\n",
    "import plotly.plotly as py\n",
    "import plotly.graph_objs as go\n",
    "plotly.tools.set_credentials_file(username='banimani', api_key='DHvuYl3SBHL61MehG64D')"
   ]
  },
  {
   "cell_type": "code",
   "execution_count": 161,
   "metadata": {},
   "outputs": [],
   "source": [
    "xls_file = pd.ExcelFile('DataDownload.xls')"
   ]
  },
  {
   "cell_type": "code",
   "execution_count": 162,
   "metadata": {},
   "outputs": [
    {
     "data": {
      "text/plain": [
       "['Read_Me',\n",
       " 'Variable List',\n",
       " 'Supplemental Data - County',\n",
       " 'Supplemental Data - State',\n",
       " 'ACCESS',\n",
       " 'STORES',\n",
       " 'RESTAURANTS',\n",
       " 'ASSISTANCE',\n",
       " 'INSECURITY',\n",
       " 'PRICES_TAXES',\n",
       " 'LOCAL',\n",
       " 'HEALTH',\n",
       " 'SOCIOECONOMIC']"
      ]
     },
     "execution_count": 162,
     "metadata": {},
     "output_type": "execute_result"
    }
   ],
   "source": [
    "xls_file.sheet_names # various sheets available in the Excel file "
   ]
  },
  {
   "cell_type": "code",
   "execution_count": 163,
   "metadata": {},
   "outputs": [],
   "source": [
    "df_readme = xls_file.parse('Read_Me')\n",
    "df_vl = xls_file.parse('Variable List')\n",
    "df_sd_county = xls_file.parse('Supplemental Data - County')\n",
    "df_sd_state = xls_file.parse('Supplemental Data - State')\n",
    "df_access = xls_file.parse('ACCESS')\n",
    "df_stores = xls_file.parse('STORES')\n",
    "df_res = xls_file.parse('RESTAURANTS')\n",
    "df_ass = xls_file.parse('ASSISTANCE')\n",
    "df_ins = xls_file.parse('INSECURITY')\n",
    "df_pt = xls_file.parse('PRICES_TAXES')\n",
    "df_local = xls_file.parse('LOCAL')\n",
    "df_health = xls_file.parse('HEALTH')\n",
    "df_se = xls_file.parse('SOCIOECONOMIC')"
   ]
  },
  {
   "cell_type": "markdown",
   "metadata": {},
   "source": [
    "This (below) plot shows the comparison of available Grocery stores per thousand population vs the population having low access to those stores (The population with low access implies that those people are more than 1 mile away from a supermarket, supercenter or large grocery store in a County.) Markers in this plot show the County name. The trend decreases as the population with low access increases. Similar situtaion is with other types of stores e.g., convenience stores and supermarkets (not shown here)."
   ]
  },
  {
   "cell_type": "code",
   "execution_count": 164,
   "metadata": {},
   "outputs": [
    {
     "data": {
      "text/html": [
       "<iframe id=\"igraph\" scrolling=\"no\" style=\"border:none;\" seamless=\"seamless\" src=\"https://plot.ly/~banimani/24.embed\" height=\"525px\" width=\"100%\"></iframe>"
      ],
      "text/plain": [
       "<plotly.tools.PlotlyDisplay object>"
      ]
     },
     "execution_count": 164,
     "metadata": {},
     "output_type": "execute_result"
    }
   ],
   "source": [
    "trace1 = go.Scatter(\n",
    "    x= df_access['LACCESS_POP15'],\n",
    "    y=df_stores['GROCPTH14'],\n",
    "    text= df_access['County'],\n",
    "    name='',\n",
    "    mode='markers'\n",
    ")\n",
    "\n",
    "data = [trace1]\n",
    "layout = go.Layout(\n",
    "    title='Comparison of available Grocery stores per thousand population vs the population having low access',\n",
    "    xaxis=dict(\n",
    "        title='Population, low access to grocery stores',\n",
    "        type = 'log',\n",
    "    ),\n",
    "    yaxis=dict(\n",
    "        title='Number of Grocery stores/1000 pop',\n",
    "        type = 'log',\n",
    "    )\n",
    ")\n",
    "fig = dict(data=data, layout=layout)\n",
    "py.iplot(fig, filename='grocery-pop')"
   ]
  },
  {
   "cell_type": "markdown",
   "metadata": {},
   "source": [
    "This plot shows the ratio of available Grocery stores and fast-food restaurants vs the population having less access to grocery stores. The majority of Counties have this ratio less than one."
   ]
  },
  {
   "cell_type": "code",
   "execution_count": 165,
   "metadata": {},
   "outputs": [
    {
     "data": {
      "text/html": [
       "<iframe id=\"igraph\" scrolling=\"no\" style=\"border:none;\" seamless=\"seamless\" src=\"https://plot.ly/~banimani/26.embed\" height=\"525px\" width=\"100%\"></iframe>"
      ],
      "text/plain": [
       "<plotly.tools.PlotlyDisplay object>"
      ]
     },
     "execution_count": 165,
     "metadata": {},
     "output_type": "execute_result"
    }
   ],
   "source": [
    "trace1 = go.Scatter(\n",
    "    x= df_access['LACCESS_POP15'],\n",
    "    y=df_stores['GROCPTH14']/df_res['FFRPTH14'],\n",
    "    text= df_access['County'],\n",
    "    name='',\n",
    "    mode='markers'\n",
    ")\n",
    "\n",
    "data = [trace1]\n",
    "layout = go.Layout(\n",
    "    title='Ratio of available Grocery stores and fast-food restaurants vs the population having low access',\n",
    "    xaxis=dict(\n",
    "        title='Population, low access to grocery store',\n",
    "        type = 'log',\n",
    "    ),\n",
    "    yaxis=dict(\n",
    "        title='Grocery stores/Fast-Food restaurants',\n",
    "        type = 'log',\n",
    "    )\n",
    ")\n",
    "fig = dict(data=data, layout=layout)\n",
    "py.iplot(fig, filename='grocery-ff-pop')"
   ]
  },
  {
   "cell_type": "markdown",
   "metadata": {},
   "source": [
    "This plot shows the ratio of available Grocery stores and fast-food restaurants vs the adult obesity rate. The adult obesity rate is the estimate of age-adjusted percentage of persons age 20 and older who are obese, where obesity is Body Mass Index (BMI) greater than or equal to 30 kilograms per meters squared. The majority of young generation who are obese are living with the ratio (Grocery stores/fast-food) less than one."
   ]
  },
  {
   "cell_type": "code",
   "execution_count": 166,
   "metadata": {},
   "outputs": [
    {
     "data": {
      "text/html": [
       "<iframe id=\"igraph\" scrolling=\"no\" style=\"border:none;\" seamless=\"seamless\" src=\"https://plot.ly/~banimani/28.embed\" height=\"525px\" width=\"100%\"></iframe>"
      ],
      "text/plain": [
       "<plotly.tools.PlotlyDisplay object>"
      ]
     },
     "execution_count": 166,
     "metadata": {},
     "output_type": "execute_result"
    }
   ],
   "source": [
    "trace1 = go.Scatter(\n",
    "    x= df_health['PCT_OBESE_ADULTS13'],\n",
    "    y=df_stores['GROCPTH14']/df_res['FFRPTH14'],\n",
    "    text= df_access['County'],\n",
    "    name='',\n",
    "    mode='markers'\n",
    ")\n",
    "\n",
    "data = [trace1]\n",
    "layout = go.Layout(\n",
    "    title='Ratio of available Grocery stores and fast-food restaurants vs the Adult obesity rate',\n",
    "    xaxis=dict(\n",
    "        title='Adult obesity rate',\n",
    "        type = 'log',\n",
    "    ),\n",
    "    yaxis=dict(\n",
    "        title='Grocery stores/Fast-Food restaurants',\n",
    "        type = 'log',\n",
    "    )\n",
    ")\n",
    "fig = dict(data=data, layout=layout)\n",
    "py.iplot(fig, filename='grocery-ff-obesity')"
   ]
  },
  {
   "cell_type": "code",
   "execution_count": null,
   "metadata": {},
   "outputs": [],
   "source": []
  }
 ],
 "metadata": {
  "kernelspec": {
   "display_name": "Python 3",
   "language": "python",
   "name": "python3"
  },
  "language_info": {
   "codemirror_mode": {
    "name": "ipython",
    "version": 3
   },
   "file_extension": ".py",
   "mimetype": "text/x-python",
   "name": "python",
   "nbconvert_exporter": "python",
   "pygments_lexer": "ipython3",
   "version": "3.7.3"
  }
 },
 "nbformat": 4,
 "nbformat_minor": 2
}
